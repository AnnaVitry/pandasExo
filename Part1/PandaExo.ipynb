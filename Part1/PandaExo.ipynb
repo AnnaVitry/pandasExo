{
 "cells": [
  {
   "cell_type": "markdown",
   "id": "a6cbc609",
   "metadata": {},
   "source": [
    "# Panda Exercices"
   ]
  },
  {
   "cell_type": "markdown",
   "id": "852dc85c",
   "metadata": {},
   "source": [
    "Exercice 1:\n",
    "Charger le fichier `customers.csv` et afficher les 5 premières lignes."
   ]
  },
  {
   "cell_type": "code",
   "execution_count": null,
   "id": "889fe18c",
   "metadata": {},
   "outputs": [
    {
     "ename": "",
     "evalue": "",
     "output_type": "error",
     "traceback": [
      "\u001b[1;31mThe kernel failed to start as the Python Environment 'Python 3.13.7' is no longer available. Consider selecting another kernel or refreshing the list of Python Environments."
     ]
    }
   ],
   "source": [
    "import pandas as pd\n",
    "\n",
    "df = pd.read_csv('./data/customers.csv')\n",
    "print(df)\n",
    "# print(df.to_string())"
   ]
  },
  {
   "cell_type": "markdown",
   "id": "dbdb1b80",
   "metadata": {},
   "source": [
    "Exercice 2: Afficher uniquement la colonne `name`.  "
   ]
  },
  {
   "cell_type": "code",
   "execution_count": null,
   "id": "b1b13cb8",
   "metadata": {},
   "outputs": [],
   "source": [
    "print(df['name'])"
   ]
  },
  {
   "cell_type": "markdown",
   "id": "9f508aa3",
   "metadata": {},
   "source": [
    "Exercice 3: Lister les clients de Paris.  "
   ]
  },
  {
   "cell_type": "code",
   "execution_count": null,
   "id": "63c91998",
   "metadata": {},
   "outputs": [],
   "source": [
    "print(df[df['city'] == 'Paris'])\n",
    "city = df.loc[df['city'] == 'Paris', 'name']\n",
    "city"
   ]
  },
  {
   "cell_type": "markdown",
   "id": "7b3d9980",
   "metadata": {},
   "source": [
    "Exercice 4: Trier les clients par âge décroissant.  "
   ]
  },
  {
   "cell_type": "code",
   "execution_count": null,
   "id": "c26e4566",
   "metadata": {},
   "outputs": [],
   "source": [
    "df.sort_values(by='age', ascending=False)"
   ]
  },
  {
   "cell_type": "markdown",
   "id": "ef5213a7",
   "metadata": {},
   "source": [
    "Exercice 5: Compter combien de clients viennent de chaque ville."
   ]
  },
  {
   "cell_type": "code",
   "execution_count": null,
   "id": "017e6291",
   "metadata": {},
   "outputs": [],
   "source": [
    "count_city = df['city'].value_counts()\n",
    "count_city\n",
    "# count_city2 = df.groupby('city').size()\n",
    "# count_city2"
   ]
  },
  {
   "cell_type": "markdown",
   "id": "9171e23a",
   "metadata": {},
   "source": [
    "Exercice 6: Sauvegarder les clients de Lyon dans `data/lyon_clients.csv`. "
   ]
  },
  {
   "cell_type": "code",
   "execution_count": null,
   "id": "1ebf14e2",
   "metadata": {},
   "outputs": [],
   "source": [
    "lyon = df[df['city'] == 'Lyon']\n",
    "lyon.to_csv('./data/lyon_clients.csv', index=False)\n"
   ]
  },
  {
   "cell_type": "markdown",
   "id": "42cb86d5",
   "metadata": {},
   "source": [
    "*(Optionnel)* Lister les clients dont le nom commence par “A”."
   ]
  },
  {
   "cell_type": "code",
   "execution_count": null,
   "id": "2cfd8a0f",
   "metadata": {},
   "outputs": [],
   "source": [
    "a = df[df['name'].str.startswith('A')]\n",
    "# a = df[df.name.str.startswith('A')]\n",
    "# df['name']\n",
    "a"
   ]
  },
  {
   "cell_type": "markdown",
   "id": "accb28ca",
   "metadata": {},
   "source": [
    "Exercice 7: Charger la table `orders` depuis la base `marketing.db`. "
   ]
  },
  {
   "cell_type": "code",
   "execution_count": null,
   "id": "4e76bcff",
   "metadata": {},
   "outputs": [],
   "source": [
    "import sqlite3\n",
    "import pandas as pd\n",
    "# Create your connection.\n",
    "cnx = sqlite3.connect('./data/marketing.db')\n",
    "\n",
    "db_orders = pd.read_sql_query(\"SELECT * FROM orders\", cnx)\n",
    "db_orders\n"
   ]
  },
  {
   "cell_type": "markdown",
   "id": "0c51567b",
   "metadata": {},
   "source": [
    "Exercice 8: Lister les 5 premières commandes avec le nom du client."
   ]
  },
  {
   "cell_type": "code",
   "execution_count": null,
   "id": "da3e7804",
   "metadata": {},
   "outputs": [],
   "source": [
    "# commandes_5 = pd.read_sql_query(\"SELECT * FROM orders \", cnx)\n",
    "# commandes_5.head()\n",
    "## ---\n",
    "## Requêtes SQLite3:\n",
    "commande = pd.read_sql_query(\"SELECT * FROM orders\", cnx)\n",
    "name = pd.read_sql_query(\"SELECT * FROM customers\", cnx)\n",
    "## Merge les tableaux:\n",
    "# merged = pd.merge(commande,name, right_on='id', left_on='customer_id')\n",
    "# merged.name\n",
    "## or\n",
    "order_list = commande.merge(name, on='id', how='left')\n",
    "order_list.head()"
   ]
  },
  {
   "cell_type": "markdown",
   "id": "90d1ff0f",
   "metadata": {},
   "source": [
    "Exercice 9: Calculer le total dépensé par chaque client."
   ]
  },
  {
   "cell_type": "code",
   "execution_count": null,
   "id": "8d18c1c9",
   "metadata": {},
   "outputs": [],
   "source": [
    "# query = \"SELECT c.name, SUM(o.amount) AS total_depenses FROM customers c JOIN orders o ON c.id = o.customer_id GROUP BY c.name;\"\n",
    "# spent = pd.read_sql_query(query, cnx)\n",
    "# spent\n",
    "## or\n",
    "sum = order_list.groupby('name')['amount'].sum()\n",
    "sum\n",
    "## or\n",
    "# somme = (\n",
    "#     order_list\n",
    "#     .groupby(\"name\")\n",
    "#     .agg({\n",
    "#         \"amount\": \"sum\",         # somme uniquement sur amount\n",
    "#         \"customer_id\": \"first\",   # ou \"min\", \"max\", selon ce que tu veux afficher\n",
    "#         \"age\": \"first\"\n",
    "#     })\n",
    "#     .reset_index()\n",
    "# )\n",
    "# print(somme)"
   ]
  },
  {
   "cell_type": "markdown",
   "id": "68ab1e4d",
   "metadata": {},
   "source": [
    "Exercice 10: Calculer le panier moyen par ville. "
   ]
  },
  {
   "cell_type": "code",
   "execution_count": null,
   "id": "5a939564",
   "metadata": {},
   "outputs": [],
   "source": [
    "spent = pd.read_sql_query(\"SELECT c.city, AVG(o.amount) AS depense_moyenne FROM customers c JOIN orders o ON c.id = o.customer_id GROUP BY c.city;\", cnx)\n",
    "spent"
   ]
  },
  {
   "cell_type": "markdown",
   "id": "87d122fc",
   "metadata": {},
   "source": [
    "Exercice 11: Exporter le rapport des panier moyens par ville en CSV.  "
   ]
  },
  {
   "cell_type": "code",
   "execution_count": null,
   "id": "e2a66295",
   "metadata": {},
   "outputs": [],
   "source": [
    "spent.to_csv('./data/exo11.csv', index=False)"
   ]
  },
  {
   "cell_type": "markdown",
   "id": "bcb69eb2",
   "metadata": {},
   "source": [
    "*(Optionnel)* Trouver le top 3 clients par montant total."
   ]
  },
  {
   "cell_type": "code",
   "execution_count": null,
   "id": "7bdf1968",
   "metadata": {},
   "outputs": [],
   "source": []
  }
 ],
 "metadata": {
  "kernelspec": {
   "display_name": "Python 3",
   "language": "python",
   "name": "python3"
  },
  "language_info": {
   "codemirror_mode": {
    "name": "ipython",
    "version": 3
   },
   "file_extension": ".py",
   "mimetype": "text/x-python",
   "name": "python",
   "nbconvert_exporter": "python",
   "pygments_lexer": "ipython3",
   "version": "3.13.7"
  }
 },
 "nbformat": 4,
 "nbformat_minor": 5
}
