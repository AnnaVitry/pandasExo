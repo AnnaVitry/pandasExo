{
 "cells": [
  {
   "cell_type": "markdown",
   "id": "a6cbc609",
   "metadata": {},
   "source": [
    "# Panda Exercices"
   ]
  },
  {
   "cell_type": "markdown",
   "id": "852dc85c",
   "metadata": {},
   "source": [
    "Exercice 1:\n",
    "Charger le fichier `customers.csv` et afficher les 5 premières lignes."
   ]
  },
  {
   "cell_type": "code",
   "execution_count": 3,
   "id": "889fe18c",
   "metadata": {},
   "outputs": [
    {
     "name": "stdout",
     "output_type": "stream",
     "text": [
      "    id     name  age        city\n",
      "0    1    Alice   25       Paris\n",
      "1    2      Bob   35        Lyon\n",
      "2    3  Charlie   40   Marseille\n",
      "3    4    Diana   28       Paris\n",
      "4    5    Ethan   32       Lille\n",
      "5    6    Fiona   29        Nice\n",
      "6    7   George   45    Bordeaux\n",
      "7    8   Hannah   31  Strasbourg\n",
      "8    9      Ian   38       Paris\n",
      "9   10     Jane   27        Lyon\n",
      "10  11    Kevin   33        Nice\n",
      "11  12    Linda   26   Marseille\n",
      "12  13     Mike   36    Bordeaux\n",
      "13  14     Nina   30       Lille\n",
      "14  15    Oscar   34  Strasbourg\n"
     ]
    }
   ],
   "source": [
    "import pandas as pd\n",
    "\n",
    "df = pd.read_csv('./data/customers.csv')\n",
    "print(df)\n",
    "# print(df.to_string())"
   ]
  },
  {
   "cell_type": "markdown",
   "id": "dbdb1b80",
   "metadata": {},
   "source": [
    "Exercice 2: Afficher uniquement la colonne `name`.  "
   ]
  },
  {
   "cell_type": "code",
   "execution_count": 4,
   "id": "b1b13cb8",
   "metadata": {},
   "outputs": [
    {
     "name": "stdout",
     "output_type": "stream",
     "text": [
      "0       Alice\n",
      "1         Bob\n",
      "2     Charlie\n",
      "3       Diana\n",
      "4       Ethan\n",
      "5       Fiona\n",
      "6      George\n",
      "7      Hannah\n",
      "8         Ian\n",
      "9        Jane\n",
      "10      Kevin\n",
      "11      Linda\n",
      "12       Mike\n",
      "13       Nina\n",
      "14      Oscar\n",
      "Name: name, dtype: object\n"
     ]
    }
   ],
   "source": [
    "print(df['name'])"
   ]
  },
  {
   "cell_type": "markdown",
   "id": "9f508aa3",
   "metadata": {},
   "source": [
    "Exercice 3: Lister les clients de Paris.  "
   ]
  },
  {
   "cell_type": "code",
   "execution_count": 5,
   "id": "63c91998",
   "metadata": {},
   "outputs": [
    {
     "name": "stdout",
     "output_type": "stream",
     "text": [
      "   id   name  age   city\n",
      "0   1  Alice   25  Paris\n",
      "3   4  Diana   28  Paris\n",
      "8   9    Ian   38  Paris\n"
     ]
    },
    {
     "data": {
      "text/plain": [
       "0    Alice\n",
       "3    Diana\n",
       "8      Ian\n",
       "Name: name, dtype: object"
      ]
     },
     "execution_count": 5,
     "metadata": {},
     "output_type": "execute_result"
    }
   ],
   "source": [
    "print(df[df['city'] == 'Paris'])\n",
    "city = df.loc[df['city'] == 'Paris', 'name']\n",
    "city"
   ]
  },
  {
   "cell_type": "markdown",
   "id": "7b3d9980",
   "metadata": {},
   "source": [
    "Exercice 4: Trier les clients par âge décroissant.  "
   ]
  },
  {
   "cell_type": "code",
   "execution_count": 6,
   "id": "c26e4566",
   "metadata": {},
   "outputs": [
    {
     "data": {
      "text/html": [
       "<div>\n",
       "<style scoped>\n",
       "    .dataframe tbody tr th:only-of-type {\n",
       "        vertical-align: middle;\n",
       "    }\n",
       "\n",
       "    .dataframe tbody tr th {\n",
       "        vertical-align: top;\n",
       "    }\n",
       "\n",
       "    .dataframe thead th {\n",
       "        text-align: right;\n",
       "    }\n",
       "</style>\n",
       "<table border=\"1\" class=\"dataframe\">\n",
       "  <thead>\n",
       "    <tr style=\"text-align: right;\">\n",
       "      <th></th>\n",
       "      <th>id</th>\n",
       "      <th>name</th>\n",
       "      <th>age</th>\n",
       "      <th>city</th>\n",
       "    </tr>\n",
       "  </thead>\n",
       "  <tbody>\n",
       "    <tr>\n",
       "      <th>6</th>\n",
       "      <td>7</td>\n",
       "      <td>George</td>\n",
       "      <td>45</td>\n",
       "      <td>Bordeaux</td>\n",
       "    </tr>\n",
       "    <tr>\n",
       "      <th>2</th>\n",
       "      <td>3</td>\n",
       "      <td>Charlie</td>\n",
       "      <td>40</td>\n",
       "      <td>Marseille</td>\n",
       "    </tr>\n",
       "    <tr>\n",
       "      <th>8</th>\n",
       "      <td>9</td>\n",
       "      <td>Ian</td>\n",
       "      <td>38</td>\n",
       "      <td>Paris</td>\n",
       "    </tr>\n",
       "    <tr>\n",
       "      <th>12</th>\n",
       "      <td>13</td>\n",
       "      <td>Mike</td>\n",
       "      <td>36</td>\n",
       "      <td>Bordeaux</td>\n",
       "    </tr>\n",
       "    <tr>\n",
       "      <th>1</th>\n",
       "      <td>2</td>\n",
       "      <td>Bob</td>\n",
       "      <td>35</td>\n",
       "      <td>Lyon</td>\n",
       "    </tr>\n",
       "    <tr>\n",
       "      <th>14</th>\n",
       "      <td>15</td>\n",
       "      <td>Oscar</td>\n",
       "      <td>34</td>\n",
       "      <td>Strasbourg</td>\n",
       "    </tr>\n",
       "    <tr>\n",
       "      <th>10</th>\n",
       "      <td>11</td>\n",
       "      <td>Kevin</td>\n",
       "      <td>33</td>\n",
       "      <td>Nice</td>\n",
       "    </tr>\n",
       "    <tr>\n",
       "      <th>4</th>\n",
       "      <td>5</td>\n",
       "      <td>Ethan</td>\n",
       "      <td>32</td>\n",
       "      <td>Lille</td>\n",
       "    </tr>\n",
       "    <tr>\n",
       "      <th>7</th>\n",
       "      <td>8</td>\n",
       "      <td>Hannah</td>\n",
       "      <td>31</td>\n",
       "      <td>Strasbourg</td>\n",
       "    </tr>\n",
       "    <tr>\n",
       "      <th>13</th>\n",
       "      <td>14</td>\n",
       "      <td>Nina</td>\n",
       "      <td>30</td>\n",
       "      <td>Lille</td>\n",
       "    </tr>\n",
       "    <tr>\n",
       "      <th>5</th>\n",
       "      <td>6</td>\n",
       "      <td>Fiona</td>\n",
       "      <td>29</td>\n",
       "      <td>Nice</td>\n",
       "    </tr>\n",
       "    <tr>\n",
       "      <th>3</th>\n",
       "      <td>4</td>\n",
       "      <td>Diana</td>\n",
       "      <td>28</td>\n",
       "      <td>Paris</td>\n",
       "    </tr>\n",
       "    <tr>\n",
       "      <th>9</th>\n",
       "      <td>10</td>\n",
       "      <td>Jane</td>\n",
       "      <td>27</td>\n",
       "      <td>Lyon</td>\n",
       "    </tr>\n",
       "    <tr>\n",
       "      <th>11</th>\n",
       "      <td>12</td>\n",
       "      <td>Linda</td>\n",
       "      <td>26</td>\n",
       "      <td>Marseille</td>\n",
       "    </tr>\n",
       "    <tr>\n",
       "      <th>0</th>\n",
       "      <td>1</td>\n",
       "      <td>Alice</td>\n",
       "      <td>25</td>\n",
       "      <td>Paris</td>\n",
       "    </tr>\n",
       "  </tbody>\n",
       "</table>\n",
       "</div>"
      ],
      "text/plain": [
       "    id     name  age        city\n",
       "6    7   George   45    Bordeaux\n",
       "2    3  Charlie   40   Marseille\n",
       "8    9      Ian   38       Paris\n",
       "12  13     Mike   36    Bordeaux\n",
       "1    2      Bob   35        Lyon\n",
       "14  15    Oscar   34  Strasbourg\n",
       "10  11    Kevin   33        Nice\n",
       "4    5    Ethan   32       Lille\n",
       "7    8   Hannah   31  Strasbourg\n",
       "13  14     Nina   30       Lille\n",
       "5    6    Fiona   29        Nice\n",
       "3    4    Diana   28       Paris\n",
       "9   10     Jane   27        Lyon\n",
       "11  12    Linda   26   Marseille\n",
       "0    1    Alice   25       Paris"
      ]
     },
     "execution_count": 6,
     "metadata": {},
     "output_type": "execute_result"
    }
   ],
   "source": [
    "df.sort_values(by='age', ascending=False)"
   ]
  },
  {
   "cell_type": "markdown",
   "id": "ef5213a7",
   "metadata": {},
   "source": [
    "Exercice 5: Compter combien de clients viennent de chaque ville."
   ]
  },
  {
   "cell_type": "code",
   "execution_count": 7,
   "id": "017e6291",
   "metadata": {},
   "outputs": [
    {
     "data": {
      "text/plain": [
       "city\n",
       "Paris         3\n",
       "Lyon          2\n",
       "Marseille     2\n",
       "Lille         2\n",
       "Nice          2\n",
       "Bordeaux      2\n",
       "Strasbourg    2\n",
       "Name: count, dtype: int64"
      ]
     },
     "execution_count": 7,
     "metadata": {},
     "output_type": "execute_result"
    }
   ],
   "source": [
    "count_city = df['city'].value_counts()\n",
    "count_city\n",
    "# count_city2 = df.groupby('city').size()\n",
    "# count_city2"
   ]
  },
  {
   "cell_type": "markdown",
   "id": "9171e23a",
   "metadata": {},
   "source": [
    "Exercice 6: Sauvegarder les clients de Lyon dans `data/lyon_clients.csv`. "
   ]
  },
  {
   "cell_type": "code",
   "execution_count": 8,
   "id": "1ebf14e2",
   "metadata": {},
   "outputs": [],
   "source": [
    "lyon = df[df['city'] == 'Lyon']\n",
    "lyon.to_csv('./data/lyon_clients.csv', index=False)\n"
   ]
  },
  {
   "cell_type": "markdown",
   "id": "42cb86d5",
   "metadata": {},
   "source": [
    "*(Optionnel)* Lister les clients dont le nom commence par “A”."
   ]
  },
  {
   "cell_type": "code",
   "execution_count": 9,
   "id": "2cfd8a0f",
   "metadata": {},
   "outputs": [
    {
     "data": {
      "text/html": [
       "<div>\n",
       "<style scoped>\n",
       "    .dataframe tbody tr th:only-of-type {\n",
       "        vertical-align: middle;\n",
       "    }\n",
       "\n",
       "    .dataframe tbody tr th {\n",
       "        vertical-align: top;\n",
       "    }\n",
       "\n",
       "    .dataframe thead th {\n",
       "        text-align: right;\n",
       "    }\n",
       "</style>\n",
       "<table border=\"1\" class=\"dataframe\">\n",
       "  <thead>\n",
       "    <tr style=\"text-align: right;\">\n",
       "      <th></th>\n",
       "      <th>id</th>\n",
       "      <th>name</th>\n",
       "      <th>age</th>\n",
       "      <th>city</th>\n",
       "    </tr>\n",
       "  </thead>\n",
       "  <tbody>\n",
       "    <tr>\n",
       "      <th>0</th>\n",
       "      <td>1</td>\n",
       "      <td>Alice</td>\n",
       "      <td>25</td>\n",
       "      <td>Paris</td>\n",
       "    </tr>\n",
       "  </tbody>\n",
       "</table>\n",
       "</div>"
      ],
      "text/plain": [
       "   id   name  age   city\n",
       "0   1  Alice   25  Paris"
      ]
     },
     "execution_count": 9,
     "metadata": {},
     "output_type": "execute_result"
    }
   ],
   "source": [
    "a = df[df['name'].str.startswith('A')]\n",
    "# a = df[df.name.str.startswith('A')]\n",
    "# df['name']\n",
    "a"
   ]
  },
  {
   "cell_type": "markdown",
   "id": "accb28ca",
   "metadata": {},
   "source": [
    "Exercice 7: Charger la table `orders` depuis la base `marketing.db`. "
   ]
  },
  {
   "cell_type": "code",
   "execution_count": 48,
   "id": "4e76bcff",
   "metadata": {},
   "outputs": [
    {
     "data": {
      "text/html": [
       "<div>\n",
       "<style scoped>\n",
       "    .dataframe tbody tr th:only-of-type {\n",
       "        vertical-align: middle;\n",
       "    }\n",
       "\n",
       "    .dataframe tbody tr th {\n",
       "        vertical-align: top;\n",
       "    }\n",
       "\n",
       "    .dataframe thead th {\n",
       "        text-align: right;\n",
       "    }\n",
       "</style>\n",
       "<table border=\"1\" class=\"dataframe\">\n",
       "  <thead>\n",
       "    <tr style=\"text-align: right;\">\n",
       "      <th></th>\n",
       "      <th>id</th>\n",
       "      <th>customer_id</th>\n",
       "      <th>amount</th>\n",
       "      <th>order_date</th>\n",
       "    </tr>\n",
       "  </thead>\n",
       "  <tbody>\n",
       "    <tr>\n",
       "      <th>0</th>\n",
       "      <td>1</td>\n",
       "      <td>1</td>\n",
       "      <td>39.9</td>\n",
       "      <td>2025-06-01</td>\n",
       "    </tr>\n",
       "    <tr>\n",
       "      <th>1</th>\n",
       "      <td>2</td>\n",
       "      <td>2</td>\n",
       "      <td>120.0</td>\n",
       "      <td>2025-06-02</td>\n",
       "    </tr>\n",
       "    <tr>\n",
       "      <th>2</th>\n",
       "      <td>3</td>\n",
       "      <td>1</td>\n",
       "      <td>59.0</td>\n",
       "      <td>2025-06-03</td>\n",
       "    </tr>\n",
       "    <tr>\n",
       "      <th>3</th>\n",
       "      <td>4</td>\n",
       "      <td>3</td>\n",
       "      <td>80.0</td>\n",
       "      <td>2025-06-04</td>\n",
       "    </tr>\n",
       "    <tr>\n",
       "      <th>4</th>\n",
       "      <td>5</td>\n",
       "      <td>4</td>\n",
       "      <td>25.0</td>\n",
       "      <td>2025-06-05</td>\n",
       "    </tr>\n",
       "    <tr>\n",
       "      <th>5</th>\n",
       "      <td>6</td>\n",
       "      <td>5</td>\n",
       "      <td>75.5</td>\n",
       "      <td>2025-06-06</td>\n",
       "    </tr>\n",
       "    <tr>\n",
       "      <th>6</th>\n",
       "      <td>7</td>\n",
       "      <td>2</td>\n",
       "      <td>200.0</td>\n",
       "      <td>2025-06-07</td>\n",
       "    </tr>\n",
       "    <tr>\n",
       "      <th>7</th>\n",
       "      <td>8</td>\n",
       "      <td>10</td>\n",
       "      <td>50.0</td>\n",
       "      <td>2025-06-08</td>\n",
       "    </tr>\n",
       "    <tr>\n",
       "      <th>8</th>\n",
       "      <td>9</td>\n",
       "      <td>10</td>\n",
       "      <td>90.0</td>\n",
       "      <td>2025-06-09</td>\n",
       "    </tr>\n",
       "    <tr>\n",
       "      <th>9</th>\n",
       "      <td>10</td>\n",
       "      <td>11</td>\n",
       "      <td>110.0</td>\n",
       "      <td>2025-06-10</td>\n",
       "    </tr>\n",
       "    <tr>\n",
       "      <th>10</th>\n",
       "      <td>11</td>\n",
       "      <td>2</td>\n",
       "      <td>60.0</td>\n",
       "      <td>2025-06-11</td>\n",
       "    </tr>\n",
       "  </tbody>\n",
       "</table>\n",
       "</div>"
      ],
      "text/plain": [
       "    id  customer_id  amount  order_date\n",
       "0    1            1    39.9  2025-06-01\n",
       "1    2            2   120.0  2025-06-02\n",
       "2    3            1    59.0  2025-06-03\n",
       "3    4            3    80.0  2025-06-04\n",
       "4    5            4    25.0  2025-06-05\n",
       "5    6            5    75.5  2025-06-06\n",
       "6    7            2   200.0  2025-06-07\n",
       "7    8           10    50.0  2025-06-08\n",
       "8    9           10    90.0  2025-06-09\n",
       "9   10           11   110.0  2025-06-10\n",
       "10  11            2    60.0  2025-06-11"
      ]
     },
     "execution_count": 48,
     "metadata": {},
     "output_type": "execute_result"
    }
   ],
   "source": [
    "import sqlite3\n",
    "import pandas as pd\n",
    "# Create your connection.\n",
    "cnx = sqlite3.connect('./data/marketing.db')\n",
    "\n",
    "db_orders = pd.read_sql_query(\"SELECT * FROM orders\", cnx)\n",
    "db_orders\n"
   ]
  },
  {
   "cell_type": "markdown",
   "id": "0c51567b",
   "metadata": {},
   "source": [
    "Exercice 8: Lister les 5 premières commandes avec le nom du client."
   ]
  },
  {
   "cell_type": "code",
   "execution_count": null,
   "id": "da3e7804",
   "metadata": {},
   "outputs": [
    {
     "data": {
      "text/plain": [
       "0       Alice\n",
       "1         Bob\n",
       "2       Alice\n",
       "3     Charlie\n",
       "4       Diana\n",
       "5       Ethan\n",
       "6         Bob\n",
       "7        Jane\n",
       "8        Jane\n",
       "9       Kevin\n",
       "10        Bob\n",
       "Name: name, dtype: object"
      ]
     },
     "execution_count": 56,
     "metadata": {},
     "output_type": "execute_result"
    }
   ],
   "source": [
    "# commandes_5 = pd.read_sql_query(\"SELECT * FROM orders \", cnx)\n",
    "# commandes_5.head()\n",
    "## ---\n",
    "## Requêtes SQLite3:\n",
    "commande = pd.read_sql_query(\"SELECT * FROM orders\", cnx)\n",
    "name = pd.read_sql_query(\"SELECT * FROM customers\", cnx)\n",
    "## Merge les tableaux:\n",
    "# merged = pd.merge(commande,name, right_on='id', left_on='customer_id')\n",
    "# merged.name\n",
    "## or\n",
    "order_list = commande.merge(name, on='id', how='left')\n",
    "order_list.head()"
   ]
  },
  {
   "cell_type": "markdown",
   "id": "90d1ff0f",
   "metadata": {},
   "source": [
    "Exercice 9: Calculer le total dépensé par chaque client."
   ]
  },
  {
   "cell_type": "code",
   "execution_count": 50,
   "id": "8d18c1c9",
   "metadata": {},
   "outputs": [
    {
     "data": {
      "text/html": [
       "<div>\n",
       "<style scoped>\n",
       "    .dataframe tbody tr th:only-of-type {\n",
       "        vertical-align: middle;\n",
       "    }\n",
       "\n",
       "    .dataframe tbody tr th {\n",
       "        vertical-align: top;\n",
       "    }\n",
       "\n",
       "    .dataframe thead th {\n",
       "        text-align: right;\n",
       "    }\n",
       "</style>\n",
       "<table border=\"1\" class=\"dataframe\">\n",
       "  <thead>\n",
       "    <tr style=\"text-align: right;\">\n",
       "      <th></th>\n",
       "      <th>name</th>\n",
       "      <th>total_depenses</th>\n",
       "    </tr>\n",
       "  </thead>\n",
       "  <tbody>\n",
       "    <tr>\n",
       "      <th>0</th>\n",
       "      <td>Alice</td>\n",
       "      <td>98.9</td>\n",
       "    </tr>\n",
       "    <tr>\n",
       "      <th>1</th>\n",
       "      <td>Bob</td>\n",
       "      <td>380.0</td>\n",
       "    </tr>\n",
       "    <tr>\n",
       "      <th>2</th>\n",
       "      <td>Charlie</td>\n",
       "      <td>80.0</td>\n",
       "    </tr>\n",
       "    <tr>\n",
       "      <th>3</th>\n",
       "      <td>Diana</td>\n",
       "      <td>25.0</td>\n",
       "    </tr>\n",
       "    <tr>\n",
       "      <th>4</th>\n",
       "      <td>Ethan</td>\n",
       "      <td>75.5</td>\n",
       "    </tr>\n",
       "    <tr>\n",
       "      <th>5</th>\n",
       "      <td>Jane</td>\n",
       "      <td>140.0</td>\n",
       "    </tr>\n",
       "    <tr>\n",
       "      <th>6</th>\n",
       "      <td>Kevin</td>\n",
       "      <td>110.0</td>\n",
       "    </tr>\n",
       "  </tbody>\n",
       "</table>\n",
       "</div>"
      ],
      "text/plain": [
       "      name  total_depenses\n",
       "0    Alice            98.9\n",
       "1      Bob           380.0\n",
       "2  Charlie            80.0\n",
       "3    Diana            25.0\n",
       "4    Ethan            75.5\n",
       "5     Jane           140.0\n",
       "6    Kevin           110.0"
      ]
     },
     "execution_count": 50,
     "metadata": {},
     "output_type": "execute_result"
    }
   ],
   "source": [
    "query = \"SELECT c.name, SUM(o.amount) AS total_depenses FROM customers c JOIN orders o ON c.id = o.customer_id GROUP BY c.name;\"\n",
    "spent = pd.read_sql_query(query, cnx)\n",
    "spent\n",
    "## or\n",
    "# sum = order_list.groupby('name')['amount'].sum()\n",
    "# sum"
   ]
  },
  {
   "cell_type": "markdown",
   "id": "68ab1e4d",
   "metadata": {},
   "source": [
    "Exercice 10: Calculer le panier moyen par ville. "
   ]
  },
  {
   "cell_type": "code",
   "execution_count": 24,
   "id": "5a939564",
   "metadata": {},
   "outputs": [
    {
     "data": {
      "text/html": [
       "<div>\n",
       "<style scoped>\n",
       "    .dataframe tbody tr th:only-of-type {\n",
       "        vertical-align: middle;\n",
       "    }\n",
       "\n",
       "    .dataframe tbody tr th {\n",
       "        vertical-align: top;\n",
       "    }\n",
       "\n",
       "    .dataframe thead th {\n",
       "        text-align: right;\n",
       "    }\n",
       "</style>\n",
       "<table border=\"1\" class=\"dataframe\">\n",
       "  <thead>\n",
       "    <tr style=\"text-align: right;\">\n",
       "      <th></th>\n",
       "      <th>city</th>\n",
       "      <th>depense_moyenne</th>\n",
       "    </tr>\n",
       "  </thead>\n",
       "  <tbody>\n",
       "    <tr>\n",
       "      <th>0</th>\n",
       "      <td>Lille</td>\n",
       "      <td>75.5</td>\n",
       "    </tr>\n",
       "    <tr>\n",
       "      <th>1</th>\n",
       "      <td>Lyon</td>\n",
       "      <td>104.0</td>\n",
       "    </tr>\n",
       "    <tr>\n",
       "      <th>2</th>\n",
       "      <td>Marseille</td>\n",
       "      <td>80.0</td>\n",
       "    </tr>\n",
       "    <tr>\n",
       "      <th>3</th>\n",
       "      <td>Nice</td>\n",
       "      <td>110.0</td>\n",
       "    </tr>\n",
       "    <tr>\n",
       "      <th>4</th>\n",
       "      <td>Paris</td>\n",
       "      <td>41.3</td>\n",
       "    </tr>\n",
       "  </tbody>\n",
       "</table>\n",
       "</div>"
      ],
      "text/plain": [
       "        city  depense_moyenne\n",
       "0      Lille             75.5\n",
       "1       Lyon            104.0\n",
       "2  Marseille             80.0\n",
       "3       Nice            110.0\n",
       "4      Paris             41.3"
      ]
     },
     "execution_count": 24,
     "metadata": {},
     "output_type": "execute_result"
    }
   ],
   "source": [
    "spent = pd.read_sql_query(\"SELECT c.city, AVG(o.amount) AS depense_moyenne FROM customers c JOIN orders o ON c.id = o.customer_id GROUP BY c.city;\", cnx)\n",
    "spent"
   ]
  },
  {
   "cell_type": "markdown",
   "id": "87d122fc",
   "metadata": {},
   "source": [
    "Exercice 11: Exporter le rapport des panier moyens par ville en CSV.  "
   ]
  },
  {
   "cell_type": "code",
   "execution_count": 25,
   "id": "e2a66295",
   "metadata": {},
   "outputs": [],
   "source": [
    "spent.to_csv('./data/exo11.csv', index=False)"
   ]
  },
  {
   "cell_type": "markdown",
   "id": "bcb69eb2",
   "metadata": {},
   "source": [
    "*(Optionnel)* Trouver le top 3 clients par montant total."
   ]
  },
  {
   "cell_type": "code",
   "execution_count": null,
   "id": "7bdf1968",
   "metadata": {},
   "outputs": [],
   "source": []
  }
 ],
 "metadata": {
  "kernelspec": {
   "display_name": ".venv",
   "language": "python",
   "name": "python3"
  },
  "language_info": {
   "codemirror_mode": {
    "name": "ipython",
    "version": 3
   },
   "file_extension": ".py",
   "mimetype": "text/x-python",
   "name": "python",
   "nbconvert_exporter": "python",
   "pygments_lexer": "ipython3",
   "version": "3.13.7"
  }
 },
 "nbformat": 4,
 "nbformat_minor": 5
}
