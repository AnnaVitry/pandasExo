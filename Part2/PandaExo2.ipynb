{
 "cells": [
  {
   "cell_type": "markdown",
   "id": "f8fcc989",
   "metadata": {},
   "source": [
    "# Panda 2"
   ]
  },
  {
   "cell_type": "markdown",
   "id": "cab69297",
   "metadata": {},
   "source": [
    "## Partie A — Débutants\n",
    "1. Charger `customers_dirty.csv` et afficher le nombre de lignes et colonnes."
   ]
  },
  {
   "cell_type": "code",
   "execution_count": 83,
   "id": "6cbd6e49",
   "metadata": {},
   "outputs": [
    {
     "data": {
      "text/plain": [
       "(5, 4)"
      ]
     },
     "execution_count": 83,
     "metadata": {},
     "output_type": "execute_result"
    }
   ],
   "source": [
    "import pandas as pd\n",
    "\n",
    "df = pd.read_csv('./data/customers_dirty.csv')\n",
    "dfc = pd.read_csv('./data/customers_dirty copy.csv')\n",
    "dfc.shape\n",
    "df.shape"
   ]
  },
  {
   "cell_type": "code",
   "execution_count": 85,
   "id": "88e435d9",
   "metadata": {},
   "outputs": [
    {
     "data": {
      "text/html": [
       "<div>\n",
       "<style scoped>\n",
       "    .dataframe tbody tr th:only-of-type {\n",
       "        vertical-align: middle;\n",
       "    }\n",
       "\n",
       "    .dataframe tbody tr th {\n",
       "        vertical-align: top;\n",
       "    }\n",
       "\n",
       "    .dataframe thead th {\n",
       "        text-align: right;\n",
       "    }\n",
       "</style>\n",
       "<table border=\"1\" class=\"dataframe\">\n",
       "  <thead>\n",
       "    <tr style=\"text-align: right;\">\n",
       "      <th></th>\n",
       "      <th>id</th>\n",
       "      <th>name</th>\n",
       "      <th>age</th>\n",
       "      <th>city</th>\n",
       "    </tr>\n",
       "  </thead>\n",
       "  <tbody>\n",
       "    <tr>\n",
       "      <th>0</th>\n",
       "      <td>1</td>\n",
       "      <td>Alice</td>\n",
       "      <td>25.0</td>\n",
       "      <td>paris</td>\n",
       "    </tr>\n",
       "    <tr>\n",
       "      <th>1</th>\n",
       "      <td>2</td>\n",
       "      <td>Bob</td>\n",
       "      <td>NaN</td>\n",
       "      <td>LYON</td>\n",
       "    </tr>\n",
       "    <tr>\n",
       "      <th>2</th>\n",
       "      <td>3</td>\n",
       "      <td>Charlie</td>\n",
       "      <td>40.0</td>\n",
       "      <td>Marseille</td>\n",
       "    </tr>\n",
       "    <tr>\n",
       "      <th>3</th>\n",
       "      <td>4</td>\n",
       "      <td>Alice</td>\n",
       "      <td>25.0</td>\n",
       "      <td>paris</td>\n",
       "    </tr>\n",
       "    <tr>\n",
       "      <th>4</th>\n",
       "      <td>5</td>\n",
       "      <td>Ethan</td>\n",
       "      <td>32.0</td>\n",
       "      <td>NaN</td>\n",
       "    </tr>\n",
       "  </tbody>\n",
       "</table>\n",
       "</div>"
      ],
      "text/plain": [
       "   id     name   age       city\n",
       "0   1    Alice  25.0      paris\n",
       "1   2      Bob   NaN       LYON\n",
       "2   3  Charlie  40.0  Marseille\n",
       "3   4    Alice  25.0      paris\n",
       "4   5    Ethan  32.0        NaN"
      ]
     },
     "execution_count": 85,
     "metadata": {},
     "output_type": "execute_result"
    }
   ],
   "source": [
    "df"
   ]
  },
  {
   "cell_type": "markdown",
   "id": "0155b77c",
   "metadata": {},
   "source": [
    "2. Vérifier combien de valeurs manquantes par colonne.  "
   ]
  },
  {
   "cell_type": "code",
   "execution_count": 86,
   "id": "44f3d184",
   "metadata": {},
   "outputs": [
    {
     "data": {
      "text/plain": [
       "id      0\n",
       "name    0\n",
       "age     1\n",
       "city    1\n",
       "dtype: int64"
      ]
     },
     "execution_count": 86,
     "metadata": {},
     "output_type": "execute_result"
    }
   ],
   "source": [
    "df.isna().sum()\n",
    "dfc.isna().sum()"
   ]
  },
  {
   "cell_type": "markdown",
   "id": "4aadf211",
   "metadata": {},
   "source": [
    "3. Supprimer toutes les lignes avec des valeurs manquantes.  "
   ]
  },
  {
   "cell_type": "code",
   "execution_count": 87,
   "id": "a8850137",
   "metadata": {},
   "outputs": [
    {
     "data": {
      "text/html": [
       "<div>\n",
       "<style scoped>\n",
       "    .dataframe tbody tr th:only-of-type {\n",
       "        vertical-align: middle;\n",
       "    }\n",
       "\n",
       "    .dataframe tbody tr th {\n",
       "        vertical-align: top;\n",
       "    }\n",
       "\n",
       "    .dataframe thead th {\n",
       "        text-align: right;\n",
       "    }\n",
       "</style>\n",
       "<table border=\"1\" class=\"dataframe\">\n",
       "  <thead>\n",
       "    <tr style=\"text-align: right;\">\n",
       "      <th></th>\n",
       "      <th>id</th>\n",
       "      <th>name</th>\n",
       "      <th>age</th>\n",
       "      <th>city</th>\n",
       "    </tr>\n",
       "  </thead>\n",
       "  <tbody>\n",
       "    <tr>\n",
       "      <th>0</th>\n",
       "      <td>1</td>\n",
       "      <td>Alice</td>\n",
       "      <td>25.0</td>\n",
       "      <td>paris</td>\n",
       "    </tr>\n",
       "    <tr>\n",
       "      <th>2</th>\n",
       "      <td>3</td>\n",
       "      <td>Charlie</td>\n",
       "      <td>40.0</td>\n",
       "      <td>Marseille</td>\n",
       "    </tr>\n",
       "    <tr>\n",
       "      <th>3</th>\n",
       "      <td>4</td>\n",
       "      <td>Alice</td>\n",
       "      <td>25.0</td>\n",
       "      <td>paris</td>\n",
       "    </tr>\n",
       "  </tbody>\n",
       "</table>\n",
       "</div>"
      ],
      "text/plain": [
       "   id     name   age       city\n",
       "0   1    Alice  25.0      paris\n",
       "2   3  Charlie  40.0  Marseille\n",
       "3   4    Alice  25.0      paris"
      ]
     },
     "execution_count": 87,
     "metadata": {},
     "output_type": "execute_result"
    }
   ],
   "source": [
    "dfc_clean = dfc.dropna(how='any')\n",
    "dfc_clean"
   ]
  },
  {
   "cell_type": "markdown",
   "id": "fcd25f0a",
   "metadata": {
    "vscode": {
     "languageId": "plaintext"
    }
   },
   "source": [
    "4. Remplacer les valeurs manquantes d’âge par la moyenne des âges.  "
   ]
  },
  {
   "cell_type": "code",
   "execution_count": 88,
   "id": "f181784e",
   "metadata": {},
   "outputs": [
    {
     "data": {
      "text/html": [
       "<div>\n",
       "<style scoped>\n",
       "    .dataframe tbody tr th:only-of-type {\n",
       "        vertical-align: middle;\n",
       "    }\n",
       "\n",
       "    .dataframe tbody tr th {\n",
       "        vertical-align: top;\n",
       "    }\n",
       "\n",
       "    .dataframe thead th {\n",
       "        text-align: right;\n",
       "    }\n",
       "</style>\n",
       "<table border=\"1\" class=\"dataframe\">\n",
       "  <thead>\n",
       "    <tr style=\"text-align: right;\">\n",
       "      <th></th>\n",
       "      <th>id</th>\n",
       "      <th>name</th>\n",
       "      <th>age</th>\n",
       "      <th>city</th>\n",
       "    </tr>\n",
       "  </thead>\n",
       "  <tbody>\n",
       "    <tr>\n",
       "      <th>0</th>\n",
       "      <td>1</td>\n",
       "      <td>Alice</td>\n",
       "      <td>25.0</td>\n",
       "      <td>paris</td>\n",
       "    </tr>\n",
       "    <tr>\n",
       "      <th>1</th>\n",
       "      <td>2</td>\n",
       "      <td>Bob</td>\n",
       "      <td>30.5</td>\n",
       "      <td>LYON</td>\n",
       "    </tr>\n",
       "    <tr>\n",
       "      <th>2</th>\n",
       "      <td>3</td>\n",
       "      <td>Charlie</td>\n",
       "      <td>40.0</td>\n",
       "      <td>Marseille</td>\n",
       "    </tr>\n",
       "    <tr>\n",
       "      <th>3</th>\n",
       "      <td>4</td>\n",
       "      <td>Alice</td>\n",
       "      <td>25.0</td>\n",
       "      <td>paris</td>\n",
       "    </tr>\n",
       "    <tr>\n",
       "      <th>4</th>\n",
       "      <td>5</td>\n",
       "      <td>Ethan</td>\n",
       "      <td>32.0</td>\n",
       "      <td>NaN</td>\n",
       "    </tr>\n",
       "  </tbody>\n",
       "</table>\n",
       "</div>"
      ],
      "text/plain": [
       "   id     name   age       city\n",
       "0   1    Alice  25.0      paris\n",
       "1   2      Bob  30.5       LYON\n",
       "2   3  Charlie  40.0  Marseille\n",
       "3   4    Alice  25.0      paris\n",
       "4   5    Ethan  32.0        NaN"
      ]
     },
     "execution_count": 88,
     "metadata": {},
     "output_type": "execute_result"
    }
   ],
   "source": [
    "mean_age = df['age'].mean()\n",
    "\n",
    "df['age'] = df['age'].fillna(mean_age)\n",
    "dfc['age'] = df['age'].fillna(mean_age)\n",
    "df"
   ]
  },
  {
   "cell_type": "markdown",
   "id": "83ce54de",
   "metadata": {},
   "source": [
    "5. Uniformiser la colonne `city` (première lettre en majuscule)."
   ]
  },
  {
   "cell_type": "code",
   "execution_count": 89,
   "id": "4010ae7f",
   "metadata": {},
   "outputs": [
    {
     "data": {
      "text/html": [
       "<div>\n",
       "<style scoped>\n",
       "    .dataframe tbody tr th:only-of-type {\n",
       "        vertical-align: middle;\n",
       "    }\n",
       "\n",
       "    .dataframe tbody tr th {\n",
       "        vertical-align: top;\n",
       "    }\n",
       "\n",
       "    .dataframe thead th {\n",
       "        text-align: right;\n",
       "    }\n",
       "</style>\n",
       "<table border=\"1\" class=\"dataframe\">\n",
       "  <thead>\n",
       "    <tr style=\"text-align: right;\">\n",
       "      <th></th>\n",
       "      <th>id</th>\n",
       "      <th>name</th>\n",
       "      <th>age</th>\n",
       "      <th>city</th>\n",
       "    </tr>\n",
       "  </thead>\n",
       "  <tbody>\n",
       "    <tr>\n",
       "      <th>0</th>\n",
       "      <td>1</td>\n",
       "      <td>Alice</td>\n",
       "      <td>25.0</td>\n",
       "      <td>Paris</td>\n",
       "    </tr>\n",
       "    <tr>\n",
       "      <th>1</th>\n",
       "      <td>2</td>\n",
       "      <td>Bob</td>\n",
       "      <td>30.5</td>\n",
       "      <td>Lyon</td>\n",
       "    </tr>\n",
       "    <tr>\n",
       "      <th>2</th>\n",
       "      <td>3</td>\n",
       "      <td>Charlie</td>\n",
       "      <td>40.0</td>\n",
       "      <td>Marseille</td>\n",
       "    </tr>\n",
       "    <tr>\n",
       "      <th>3</th>\n",
       "      <td>4</td>\n",
       "      <td>Alice</td>\n",
       "      <td>25.0</td>\n",
       "      <td>Paris</td>\n",
       "    </tr>\n",
       "    <tr>\n",
       "      <th>4</th>\n",
       "      <td>5</td>\n",
       "      <td>Ethan</td>\n",
       "      <td>32.0</td>\n",
       "      <td>NaN</td>\n",
       "    </tr>\n",
       "  </tbody>\n",
       "</table>\n",
       "</div>"
      ],
      "text/plain": [
       "   id     name   age       city\n",
       "0   1    Alice  25.0      Paris\n",
       "1   2      Bob  30.5       Lyon\n",
       "2   3  Charlie  40.0  Marseille\n",
       "3   4    Alice  25.0      Paris\n",
       "4   5    Ethan  32.0        NaN"
      ]
     },
     "execution_count": 89,
     "metadata": {},
     "output_type": "execute_result"
    }
   ],
   "source": [
    "df['city'] = df['city'].str.capitalize()\n",
    "dfc['city'] = dfc['city'].str.capitalize()\n",
    "df"
   ]
  },
  {
   "cell_type": "markdown",
   "id": "c1ee179a",
   "metadata": {},
   "source": [
    "6. Supprimer les doublons."
   ]
  },
  {
   "cell_type": "code",
   "execution_count": 90,
   "id": "9439dabf",
   "metadata": {},
   "outputs": [
    {
     "data": {
      "text/html": [
       "<div>\n",
       "<style scoped>\n",
       "    .dataframe tbody tr th:only-of-type {\n",
       "        vertical-align: middle;\n",
       "    }\n",
       "\n",
       "    .dataframe tbody tr th {\n",
       "        vertical-align: top;\n",
       "    }\n",
       "\n",
       "    .dataframe thead th {\n",
       "        text-align: right;\n",
       "    }\n",
       "</style>\n",
       "<table border=\"1\" class=\"dataframe\">\n",
       "  <thead>\n",
       "    <tr style=\"text-align: right;\">\n",
       "      <th></th>\n",
       "      <th>id</th>\n",
       "      <th>name</th>\n",
       "      <th>age</th>\n",
       "      <th>city</th>\n",
       "    </tr>\n",
       "  </thead>\n",
       "  <tbody>\n",
       "    <tr>\n",
       "      <th>0</th>\n",
       "      <td>1</td>\n",
       "      <td>Alice</td>\n",
       "      <td>25.0</td>\n",
       "      <td>Paris</td>\n",
       "    </tr>\n",
       "    <tr>\n",
       "      <th>1</th>\n",
       "      <td>2</td>\n",
       "      <td>Bob</td>\n",
       "      <td>30.5</td>\n",
       "      <td>Lyon</td>\n",
       "    </tr>\n",
       "    <tr>\n",
       "      <th>2</th>\n",
       "      <td>3</td>\n",
       "      <td>Charlie</td>\n",
       "      <td>40.0</td>\n",
       "      <td>Marseille</td>\n",
       "    </tr>\n",
       "    <tr>\n",
       "      <th>4</th>\n",
       "      <td>5</td>\n",
       "      <td>Ethan</td>\n",
       "      <td>32.0</td>\n",
       "      <td>NaN</td>\n",
       "    </tr>\n",
       "  </tbody>\n",
       "</table>\n",
       "</div>"
      ],
      "text/plain": [
       "   id     name   age       city\n",
       "0   1    Alice  25.0      Paris\n",
       "1   2      Bob  30.5       Lyon\n",
       "2   3  Charlie  40.0  Marseille\n",
       "4   5    Ethan  32.0        NaN"
      ]
     },
     "execution_count": 90,
     "metadata": {},
     "output_type": "execute_result"
    }
   ],
   "source": [
    "dfc = dfc.drop_duplicates(subset=['name', 'age', 'city'])\n",
    "df = df.drop_duplicates(subset=['name', 'age', 'city'])\n",
    "# dfd\n",
    "df"
   ]
  },
  {
   "cell_type": "markdown",
   "id": "3ed4ca9d",
   "metadata": {},
   "source": [
    "*(Optionnel)* Compter le nombre de clients uniques par ville."
   ]
  },
  {
   "cell_type": "markdown",
   "id": "5a5ba5da",
   "metadata": {},
   "source": [
    "\n",
    "## Partie B — Challenge\n",
    "7. Créer une nouvelle colonne `is_adult` (âge >= 18).  "
   ]
  },
  {
   "cell_type": "code",
   "execution_count": 91,
   "id": "68d31777",
   "metadata": {},
   "outputs": [
    {
     "name": "stderr",
     "output_type": "stream",
     "text": [
      "/tmp/ipykernel_5845/2480313306.py:3: SettingWithCopyWarning: \n",
      "A value is trying to be set on a copy of a slice from a DataFrame.\n",
      "Try using .loc[row_indexer,col_indexer] = value instead\n",
      "\n",
      "See the caveats in the documentation: https://pandas.pydata.org/pandas-docs/stable/user_guide/indexing.html#returning-a-view-versus-a-copy\n",
      "  dfc.loc[:, \"is_adult\"] = dfc[\"age\"] > 18\n",
      "/tmp/ipykernel_5845/2480313306.py:4: SettingWithCopyWarning: \n",
      "A value is trying to be set on a copy of a slice from a DataFrame.\n",
      "Try using .loc[row_indexer,col_indexer] = value instead\n",
      "\n",
      "See the caveats in the documentation: https://pandas.pydata.org/pandas-docs/stable/user_guide/indexing.html#returning-a-view-versus-a-copy\n",
      "  df.loc[:, \"is_adult\"] = df[\"age\"] > 18\n"
     ]
    },
    {
     "data": {
      "text/html": [
       "<div>\n",
       "<style scoped>\n",
       "    .dataframe tbody tr th:only-of-type {\n",
       "        vertical-align: middle;\n",
       "    }\n",
       "\n",
       "    .dataframe tbody tr th {\n",
       "        vertical-align: top;\n",
       "    }\n",
       "\n",
       "    .dataframe thead th {\n",
       "        text-align: right;\n",
       "    }\n",
       "</style>\n",
       "<table border=\"1\" class=\"dataframe\">\n",
       "  <thead>\n",
       "    <tr style=\"text-align: right;\">\n",
       "      <th></th>\n",
       "      <th>id</th>\n",
       "      <th>name</th>\n",
       "      <th>age</th>\n",
       "      <th>city</th>\n",
       "      <th>is_adult</th>\n",
       "    </tr>\n",
       "  </thead>\n",
       "  <tbody>\n",
       "    <tr>\n",
       "      <th>0</th>\n",
       "      <td>1</td>\n",
       "      <td>Alice</td>\n",
       "      <td>25.0</td>\n",
       "      <td>Paris</td>\n",
       "      <td>True</td>\n",
       "    </tr>\n",
       "    <tr>\n",
       "      <th>1</th>\n",
       "      <td>2</td>\n",
       "      <td>Bob</td>\n",
       "      <td>30.5</td>\n",
       "      <td>Lyon</td>\n",
       "      <td>True</td>\n",
       "    </tr>\n",
       "    <tr>\n",
       "      <th>2</th>\n",
       "      <td>3</td>\n",
       "      <td>Charlie</td>\n",
       "      <td>40.0</td>\n",
       "      <td>Marseille</td>\n",
       "      <td>True</td>\n",
       "    </tr>\n",
       "    <tr>\n",
       "      <th>4</th>\n",
       "      <td>5</td>\n",
       "      <td>Ethan</td>\n",
       "      <td>32.0</td>\n",
       "      <td>NaN</td>\n",
       "      <td>True</td>\n",
       "    </tr>\n",
       "  </tbody>\n",
       "</table>\n",
       "</div>"
      ],
      "text/plain": [
       "   id     name   age       city  is_adult\n",
       "0   1    Alice  25.0      Paris      True\n",
       "1   2      Bob  30.5       Lyon      True\n",
       "2   3  Charlie  40.0  Marseille      True\n",
       "4   5    Ethan  32.0        NaN      True"
      ]
     },
     "execution_count": 91,
     "metadata": {},
     "output_type": "execute_result"
    }
   ],
   "source": [
    "# df['is_adult'] = df['age'] > 18\n",
    "# df\n",
    "dfc.loc[:, \"is_adult\"] = dfc[\"age\"] > 18\n",
    "df.loc[:, \"is_adult\"] = df[\"age\"] > 18\n",
    "df"
   ]
  },
  {
   "cell_type": "markdown",
   "id": "92c49354",
   "metadata": {},
   "source": [
    "8. Récupérer depuis `marketing.db` le nombre de commandes par client."
   ]
  },
  {
   "cell_type": "code",
   "execution_count": 92,
   "id": "e14d056c",
   "metadata": {},
   "outputs": [
    {
     "data": {
      "text/html": [
       "<div>\n",
       "<style scoped>\n",
       "    .dataframe tbody tr th:only-of-type {\n",
       "        vertical-align: middle;\n",
       "    }\n",
       "\n",
       "    .dataframe tbody tr th {\n",
       "        vertical-align: top;\n",
       "    }\n",
       "\n",
       "    .dataframe thead th {\n",
       "        text-align: right;\n",
       "    }\n",
       "</style>\n",
       "<table border=\"1\" class=\"dataframe\">\n",
       "  <thead>\n",
       "    <tr style=\"text-align: right;\">\n",
       "      <th></th>\n",
       "      <th>name</th>\n",
       "      <th>customer_id</th>\n",
       "    </tr>\n",
       "  </thead>\n",
       "  <tbody>\n",
       "    <tr>\n",
       "      <th>0</th>\n",
       "      <td>Alice</td>\n",
       "      <td>2</td>\n",
       "    </tr>\n",
       "    <tr>\n",
       "      <th>1</th>\n",
       "      <td>Bob</td>\n",
       "      <td>1</td>\n",
       "    </tr>\n",
       "    <tr>\n",
       "      <th>2</th>\n",
       "      <td>Charlie</td>\n",
       "      <td>1</td>\n",
       "    </tr>\n",
       "  </tbody>\n",
       "</table>\n",
       "</div>"
      ],
      "text/plain": [
       "      name  customer_id\n",
       "0    Alice            2\n",
       "1      Bob            1\n",
       "2  Charlie            1"
      ]
     },
     "execution_count": 92,
     "metadata": {},
     "output_type": "execute_result"
    }
   ],
   "source": [
    "import sqlite3\n",
    "import pandas as pd\n",
    "# Create your connection.\n",
    "cnx = sqlite3.connect('./data/marketing.db')\n",
    "\n",
    "# db_orders = pd.read_sql_query(\"SELECT * FROM orders\", cnx)\n",
    "# db_orders\n",
    "orders = pd.read_sql_query(\"SELECT * FROM orders\", cnx)\n",
    "customers = pd.read_sql_query(\"SELECT * FROM customers\", cnx)\n",
    "merged = pd.merge(orders, customers, right_on='id', left_on='customer_id')\n",
    "# merged\n",
    "order_counts = merged.groupby('name')['customer_id'].count().reset_index()\n",
    "order_counts"
   ]
  },
  {
   "cell_type": "markdown",
   "id": "47ce2058",
   "metadata": {},
   "source": [
    "9. Fusionner ce résultat avec le CSV nettoyé. "
   ]
  },
  {
   "cell_type": "code",
   "execution_count": null,
   "id": "3e63c81f",
   "metadata": {},
   "outputs": [
    {
     "name": "stdout",
     "output_type": "stream",
     "text": [
      "   id     name   age       city  is_adult  order_count\n",
      "0   1    Alice  25.0      Paris      True            2\n",
      "1   2      Bob  30.5       Lyon      True            1\n",
      "2   3  Charlie  40.0  Marseille      True            1\n",
      "3   5    Ethan  32.0        NaN      True            0\n"
     ]
    }
   ],
   "source": [
    "# Compter les commandes par client_id\n",
    "order_counts = orders.groupby('customer_id').size().reset_index(name='order_count')\n",
    "# order_counts\n",
    "# dfc\n",
    "# Fusionner avec ton CSV (sur id = customer_id)\n",
    "merged = pd.merge(dfc, order_counts, how='left', left_on='id', right_on='customer_id')\n",
    "# merged\n",
    "# Supprimer la colonne 'customer_id' (inutile)\n",
    "merged = merged.drop(columns=['customer_id'])\n",
    "# merged\n",
    "# Remplacer NaN par 0 (clients sans commandes)\n",
    "merged['order_count'] = merged['order_count'].fillna(0).astype(int)\n",
    "# merged\n",
    "# Sauvegarder dans un nouveau CSV\n",
    "merged.to_csv(\"./data/customers_dirty copy.csv\", index=False)\n",
    "\n",
    "print(merged)\n",
    "\n",
    "\n",
    "# dfc"
   ]
  },
  {
   "cell_type": "markdown",
   "id": "b754bd94",
   "metadata": {},
   "source": [
    "10. Créer une colonne `fidelite` : \"fidèle\" si nb_commandes > 1, sinon \"nouveau\"."
   ]
  },
  {
   "cell_type": "code",
   "execution_count": null,
   "id": "dfe7acc0",
   "metadata": {},
   "outputs": [],
   "source": []
  },
  {
   "cell_type": "markdown",
   "id": "963b2a9c",
   "metadata": {},
   "source": [
    "11. Exporter le résultat final dans `data/customers_clean.csv`. "
   ]
  },
  {
   "cell_type": "markdown",
   "id": "433c3ecf",
   "metadata": {},
   "source": [
    "*(Optionnel)* Lister les 3 clients les plus fidèles.  "
   ]
  }
 ],
 "metadata": {
  "kernelspec": {
   "display_name": ".venv",
   "language": "python",
   "name": "python3"
  },
  "language_info": {
   "codemirror_mode": {
    "name": "ipython",
    "version": 3
   },
   "file_extension": ".py",
   "mimetype": "text/x-python",
   "name": "python",
   "nbconvert_exporter": "python",
   "pygments_lexer": "ipython3",
   "version": "3.13.7"
  }
 },
 "nbformat": 4,
 "nbformat_minor": 5
}
